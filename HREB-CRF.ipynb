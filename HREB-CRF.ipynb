{
 "cells": [
  {
   "cell_type": "code",
   "execution_count": 1,
   "id": "54f6d568-7ab7-40e7-be54-4cf98da5c8d4",
   "metadata": {},
   "outputs": [],
   "source": [
    "from model import HREBCRF\n",
    "from utils import tokenize, compute_metrics, WeightLoggerCallback\n",
    "from datasets import load_dataset\n",
    "from transformers import BertTokenizerFast, Trainer, TrainingArguments"
   ]
  },
  {
   "cell_type": "code",
   "execution_count": 2,
   "id": "516a027a-74eb-462a-b24a-9500ac98432d",
   "metadata": {},
   "outputs": [],
   "source": [
    "dataset_name = 'PassbyGrocer/msra-ner'\n",
    "bert_model = 'hfl/chinese-roberta-wwm-ext-large'\n",
    "max_length = 64"
   ]
  },
  {
   "cell_type": "code",
   "execution_count": null,
   "id": "13b1d759-6c8c-4482-bece-bf4d5ec93f1e",
   "metadata": {},
   "outputs": [],
   "source": [
    "dataset= load_dataset(dataset_name)\n",
    "train_dataset = dataset['train']\n",
    "test_dataset = dataset['test']\n",
    "val_dataset = dataset['validation']\n",
    "num_labels=len(train_dataset.features[\"ner_tags\"].feature.names)\n",
    "model = HREBCRF.from_pretrained(bert_model, num_labels=num_labels)\n",
    "tokenizer = BertTokenizerFast.from_pretrained(bert_model)"
   ]
  },
  {
   "cell_type": "code",
   "execution_count": null,
   "id": "84e413f6-fb87-4218-853c-374ddfc5be87",
   "metadata": {},
   "outputs": [],
   "source": [
    "train_dataset = train_dataset.rename_column('ner_tags', 'label_ids')\n",
    "test_dataset = test_dataset.rename_column('ner_tags', 'label_ids')\n",
    "\n",
    "train_dataset = train_dataset.map(lambda x: tokenize(x, tokenizer, max_length), batched=True, batch_size=len(train_dataset))\n",
    "test_dataset = test_dataset.map(lambda x: tokenize(x, tokenizer, max_length), batched=True, batch_size=len(test_dataset))\n",
    "\n",
    "train_dataset.set_format('torch', columns=['input_ids', 'token_type_ids', 'attention_mask', 'label_ids'])\n",
    "test_dataset.set_format('torch', columns=['input_ids', 'token_type_ids', 'attention_mask', 'label_ids'])"
   ]
  },
  {
   "cell_type": "code",
   "execution_count": 5,
   "id": "1d0512f7-7282-48fa-b7dd-ca16c4950cee",
   "metadata": {},
   "outputs": [],
   "source": [
    "training_args = TrainingArguments(\n",
    "    output_dir='./results',\n",
    "    num_train_epochs=10,\n",
    "    per_device_train_batch_size=32,\n",
    "    per_device_eval_batch_size=32,\n",
    "    warmup_steps=10,\n",
    "    weight_decay=0.01,\n",
    "    eval_strategy=\"epoch\", \n",
    ")"
   ]
  },
  {
   "cell_type": "code",
   "execution_count": null,
   "id": "37b77a50",
   "metadata": {},
   "outputs": [],
   "source": [
    "\n",
    "trainer = Trainer(\n",
    "    model=model,\n",
    "    args=training_args,\n",
    "    compute_metrics=lambda x: compute_metrics(x,dataset),\n",
    "    train_dataset=train_dataset,\n",
    "    eval_dataset=test_dataset,\n",
    "    callbacks=[WeightLoggerCallback()]\n",
    ")\n",
    "trainer.train()"
   ]
  },
  {
   "cell_type": "code",
   "execution_count": null,
   "id": "8c27531f-c1c9-4171-a302-142694de6836",
   "metadata": {},
   "outputs": [],
   "source": []
  }
 ],
 "metadata": {
  "kernelspec": {
   "display_name": "hf",
   "language": "python",
   "name": "python3"
  },
  "language_info": {
   "codemirror_mode": {
    "name": "ipython",
    "version": 3
   },
   "file_extension": ".py",
   "mimetype": "text/x-python",
   "name": "python",
   "nbconvert_exporter": "python",
   "pygments_lexer": "ipython3",
   "version": "3.10.16"
  }
 },
 "nbformat": 4,
 "nbformat_minor": 5
}
